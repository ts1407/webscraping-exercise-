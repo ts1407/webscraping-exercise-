{
 "cells": [
  {
   "cell_type": "code",
   "execution_count": 1,
   "id": "106244ef",
   "metadata": {},
   "outputs": [],
   "source": [
    "import requests"
   ]
  },
  {
   "cell_type": "code",
   "execution_count": 2,
   "id": "67101f7a",
   "metadata": {},
   "outputs": [],
   "source": [
    "result = requests.get(\"https://in.godaddy.com/domainsearch/find?checkAvail=1&domainToCheck=bjmtuc.club&redirected=true\")"
   ]
  },
  {
   "cell_type": "code",
   "execution_count": 3,
   "id": "46dca936",
   "metadata": {},
   "outputs": [
    {
     "data": {
      "text/plain": [
       "'<HTML><HEAD>\\n<TITLE>Access Denied</TITLE>\\n</HEAD><BODY>\\n<H1>Access Denied</H1>\\n \\nYou don\\'t have permission to access \"http&#58;&#47;&#47;in&#46;godaddy&#46;com&#47;domainsearch&#47;find&#63;\" on this server.<P>\\nReference&#32;&#35;18&#46;2d7c4117&#46;1666887522&#46;2619f343\\n</BODY>\\n</HTML>\\n'"
      ]
     },
     "execution_count": 3,
     "metadata": {},
     "output_type": "execute_result"
    }
   ],
   "source": [
    "result.text\n"
   ]
  },
  {
   "cell_type": "code",
   "execution_count": 4,
   "id": "092995d8",
   "metadata": {},
   "outputs": [],
   "source": [
    "import bs4"
   ]
  },
  {
   "cell_type": "code",
   "execution_count": 8,
   "id": "159a1ca5",
   "metadata": {},
   "outputs": [],
   "source": [
    "soup = bs4.BeautifulSoup(result.text,\"html.parser\")"
   ]
  },
  {
   "cell_type": "code",
   "execution_count": 9,
   "id": "ef120698",
   "metadata": {},
   "outputs": [
    {
     "data": {
      "text/plain": [
       "<html><head>\n",
       "<title>Access Denied</title>\n",
       "</head><body>\n",
       "<h1>Access Denied</h1>\n",
       " \n",
       "You don't have permission to access \"http://in.godaddy.com/domainsearch/find?\" on this server.<p>\n",
       "Reference #18.2d7c4117.1666887522.2619f343\n",
       "</p></body>\n",
       "</html>"
      ]
     },
     "execution_count": 9,
     "metadata": {},
     "output_type": "execute_result"
    }
   ],
   "source": [
    "soup\n"
   ]
  },
  {
   "cell_type": "code",
   "execution_count": null,
   "id": "a555d38e",
   "metadata": {},
   "outputs": [],
   "source": [
    " "
   ]
  }
 ],
 "metadata": {
  "kernelspec": {
   "display_name": "Python 3 (ipykernel)",
   "language": "python",
   "name": "python3"
  },
  "language_info": {
   "codemirror_mode": {
    "name": "ipython",
    "version": 3
   },
   "file_extension": ".py",
   "mimetype": "text/x-python",
   "name": "python",
   "nbconvert_exporter": "python",
   "pygments_lexer": "ipython3",
   "version": "3.9.7"
  }
 },
 "nbformat": 4,
 "nbformat_minor": 5
}
